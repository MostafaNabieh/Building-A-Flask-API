{
  "nbformat": 4,
  "nbformat_minor": 0,
  "metadata": {
    "colab": {
      "name": "Building A Flask API.ipynb",
      "provenance": [],
      "collapsed_sections": [],
      "authorship_tag": "ABX9TyPNOGaXDP9troLLj4f8qnRP"
    },
    "kernelspec": {
      "name": "python3",
      "display_name": "Python 3"
    },
    "language_info": {
      "name": "python"
    }
  },
  "cells": [
    {
      "cell_type": "code",
      "metadata": {
        "colab": {
          "base_uri": "https://localhost:8080/"
        },
        "id": "XEprrpQASXq6",
        "outputId": "304d3b67-8e6f-4b57-a243-8cb1a5aee681"
      },
      "source": [
        "!pip install Flask\n",
        "!pip install Flask-SQLAlchemy"
      ],
      "execution_count": 11,
      "outputs": [
        {
          "output_type": "stream",
          "text": [
            "Requirement already satisfied: Flask in /usr/local/lib/python3.7/dist-packages (1.1.4)\n",
            "Requirement already satisfied: Werkzeug<2.0,>=0.15 in /usr/local/lib/python3.7/dist-packages (from Flask) (1.0.1)\n",
            "Requirement already satisfied: itsdangerous<2.0,>=0.24 in /usr/local/lib/python3.7/dist-packages (from Flask) (1.1.0)\n",
            "Requirement already satisfied: Jinja2<3.0,>=2.10.1 in /usr/local/lib/python3.7/dist-packages (from Flask) (2.11.3)\n",
            "Requirement already satisfied: click<8.0,>=5.1 in /usr/local/lib/python3.7/dist-packages (from Flask) (7.1.2)\n",
            "Requirement already satisfied: MarkupSafe>=0.23 in /usr/local/lib/python3.7/dist-packages (from Jinja2<3.0,>=2.10.1->Flask) (2.0.1)\n",
            "Collecting Flask-SQLAlchemy\n",
            "  Downloading Flask_SQLAlchemy-2.5.1-py2.py3-none-any.whl (17 kB)\n",
            "Requirement already satisfied: Flask>=0.10 in /usr/local/lib/python3.7/dist-packages (from Flask-SQLAlchemy) (1.1.4)\n",
            "Requirement already satisfied: SQLAlchemy>=0.8.0 in /usr/local/lib/python3.7/dist-packages (from Flask-SQLAlchemy) (1.4.22)\n",
            "Requirement already satisfied: itsdangerous<2.0,>=0.24 in /usr/local/lib/python3.7/dist-packages (from Flask>=0.10->Flask-SQLAlchemy) (1.1.0)\n",
            "Requirement already satisfied: Jinja2<3.0,>=2.10.1 in /usr/local/lib/python3.7/dist-packages (from Flask>=0.10->Flask-SQLAlchemy) (2.11.3)\n",
            "Requirement already satisfied: click<8.0,>=5.1 in /usr/local/lib/python3.7/dist-packages (from Flask>=0.10->Flask-SQLAlchemy) (7.1.2)\n",
            "Requirement already satisfied: Werkzeug<2.0,>=0.15 in /usr/local/lib/python3.7/dist-packages (from Flask>=0.10->Flask-SQLAlchemy) (1.0.1)\n",
            "Requirement already satisfied: MarkupSafe>=0.23 in /usr/local/lib/python3.7/dist-packages (from Jinja2<3.0,>=2.10.1->Flask>=0.10->Flask-SQLAlchemy) (2.0.1)\n",
            "Requirement already satisfied: importlib-metadata in /usr/local/lib/python3.7/dist-packages (from SQLAlchemy>=0.8.0->Flask-SQLAlchemy) (4.6.4)\n",
            "Requirement already satisfied: greenlet!=0.4.17 in /usr/local/lib/python3.7/dist-packages (from SQLAlchemy>=0.8.0->Flask-SQLAlchemy) (1.1.1)\n",
            "Requirement already satisfied: typing-extensions>=3.6.4 in /usr/local/lib/python3.7/dist-packages (from importlib-metadata->SQLAlchemy>=0.8.0->Flask-SQLAlchemy) (3.7.4.3)\n",
            "Requirement already satisfied: zipp>=0.5 in /usr/local/lib/python3.7/dist-packages (from importlib-metadata->SQLAlchemy>=0.8.0->Flask-SQLAlchemy) (3.5.0)\n",
            "Installing collected packages: Flask-SQLAlchemy\n",
            "Successfully installed Flask-SQLAlchemy-2.5.1\n"
          ],
          "name": "stdout"
        }
      ]
    },
    {
      "cell_type": "code",
      "metadata": {
        "colab": {
          "base_uri": "https://localhost:8080/"
        },
        "id": "tar6uQ_fSySk",
        "outputId": "1b20bb12-0b9c-44a3-84cd-ff5158435642"
      },
      "source": [
        "!!pip install flask-ngrok"
      ],
      "execution_count": 9,
      "outputs": [
        {
          "output_type": "execute_result",
          "data": {
            "text/plain": [
              "['Requirement already satisfied: flask-ngrok in /usr/local/lib/python3.7/dist-packages (0.0.25)',\n",
              " 'Requirement already satisfied: requests in /usr/local/lib/python3.7/dist-packages (from flask-ngrok) (2.23.0)',\n",
              " 'Requirement already satisfied: Flask>=0.8 in /usr/local/lib/python3.7/dist-packages (from flask-ngrok) (1.1.4)',\n",
              " 'Requirement already satisfied: Werkzeug<2.0,>=0.15 in /usr/local/lib/python3.7/dist-packages (from Flask>=0.8->flask-ngrok) (1.0.1)',\n",
              " 'Requirement already satisfied: itsdangerous<2.0,>=0.24 in /usr/local/lib/python3.7/dist-packages (from Flask>=0.8->flask-ngrok) (1.1.0)',\n",
              " 'Requirement already satisfied: Jinja2<3.0,>=2.10.1 in /usr/local/lib/python3.7/dist-packages (from Flask>=0.8->flask-ngrok) (2.11.3)',\n",
              " 'Requirement already satisfied: click<8.0,>=5.1 in /usr/local/lib/python3.7/dist-packages (from Flask>=0.8->flask-ngrok) (7.1.2)',\n",
              " 'Requirement already satisfied: MarkupSafe>=0.23 in /usr/local/lib/python3.7/dist-packages (from Jinja2<3.0,>=2.10.1->Flask>=0.8->flask-ngrok) (2.0.1)',\n",
              " 'Requirement already satisfied: chardet<4,>=3.0.2 in /usr/local/lib/python3.7/dist-packages (from requests->flask-ngrok) (3.0.4)',\n",
              " 'Requirement already satisfied: certifi>=2017.4.17 in /usr/local/lib/python3.7/dist-packages (from requests->flask-ngrok) (2021.5.30)',\n",
              " 'Requirement already satisfied: idna<3,>=2.5 in /usr/local/lib/python3.7/dist-packages (from requests->flask-ngrok) (2.10)',\n",
              " 'Requirement already satisfied: urllib3!=1.25.0,!=1.25.1,<1.26,>=1.21.1 in /usr/local/lib/python3.7/dist-packages (from requests->flask-ngrok) (1.24.3)']"
            ]
          },
          "metadata": {},
          "execution_count": 9
        }
      ]
    },
    {
      "cell_type": "code",
      "metadata": {
        "colab": {
          "base_uri": "https://localhost:8080/"
        },
        "id": "rKFfy754SYol",
        "outputId": "432bdc92-4046-49cb-ef78-bb11e794196e"
      },
      "source": [
        "from flask import Flask,render_template,url_for,request,redirect\n",
        "from flask_ngrok import run_with_ngrok\n",
        "from flask_sqlalchemy import SQLAlchemy\n",
        "from datetime import datetime\n",
        "app = Flask(__name__)\n",
        "app.config['SQLALCHEMY_DATABASE_URL']='sqllit:///test.db'\n",
        "db = SQLAlchemy(app)\n",
        "run_with_ngrok(app) \n",
        "class Todo(db.Model):\n",
        "  id =db.Column(db.Integer,primary_key=True)\n",
        "  content= db.Column(db.String(200),nullable=False)\n",
        "  date_created = db.Column(db.DateTime, default=datetime.utcnow)\n",
        "  def __repr__(self):\n",
        "    return '<Task %r>' %self.id\n",
        "  \n",
        "@app.route(\"/\",methods=['POST',\"GET\"])\n",
        "def home():\n",
        "  if request.method =='POST':\n",
        "    task_content= request.form['content']\n",
        "    new_task = Todo(content=task_content)\n",
        "    try:\n",
        "      db.session.add(new_task)\n",
        "      db.session.commit()\n",
        "      return redirect('/')\n",
        "    except:\n",
        "      return 'Error'\n",
        "  else :\n",
        "    tasks = Todo.query.order_by(Todo.date_created).all()\n",
        "    return render_template('index.html', tasks=tasks)\n",
        "@app.route('/delete/<int:id>')\n",
        "def delete(id):\n",
        "  task_to_delete = Todo.query.get_or_404(id)\n",
        "  try:\n",
        "      db.session.delete(task_to_delete)\n",
        "      db.session.commit()\n",
        "      return redirect('/')\n",
        "  except:\n",
        "      return 'Deleting'\n",
        "@app.route('/update/<int:id>', methods=['GET', 'POST'])\n",
        "def update(id):\n",
        "  task = Todo.query.get_or_404(id)\n",
        "\n",
        "  if request.method == 'POST':\n",
        "      task.content = request.form['content']\n",
        "\n",
        "      try:\n",
        "          db.session.commit()\n",
        "          return redirect('/')\n",
        "      except:\n",
        "          return 'There was an issue updating your task'\n",
        "\n",
        "  else:\n",
        "      return render_template('update.html', task=task)\n",
        "if __name__ == \"__main__\":    \n",
        "  db.create_all()\n",
        "  app.run()"
      ],
      "execution_count": 3,
      "outputs": [
        {
          "output_type": "stream",
          "text": [
            " * Serving Flask app \"__main__\" (lazy loading)\n",
            " * Environment: production\n",
            "\u001b[31m   WARNING: This is a development server. Do not use it in a production deployment.\u001b[0m\n",
            "\u001b[2m   Use a production WSGI server instead.\u001b[0m\n",
            " * Debug mode: off\n"
          ],
          "name": "stdout"
        },
        {
          "output_type": "stream",
          "text": [
            "/usr/local/lib/python3.7/dist-packages/flask_sqlalchemy/__init__.py:852: UserWarning: Neither SQLALCHEMY_DATABASE_URI nor SQLALCHEMY_BINDS is set. Defaulting SQLALCHEMY_DATABASE_URI to \"sqlite:///:memory:\".\n",
            "  'Neither SQLALCHEMY_DATABASE_URI nor SQLALCHEMY_BINDS is set. '\n",
            "/usr/local/lib/python3.7/dist-packages/flask_sqlalchemy/__init__.py:873: FSADeprecationWarning: SQLALCHEMY_TRACK_MODIFICATIONS adds significant overhead and will be disabled by default in the future.  Set it to True or False to suppress this warning.\n",
            "  'SQLALCHEMY_TRACK_MODIFICATIONS adds significant overhead and '\n",
            " * Running on http://127.0.0.1:5000/ (Press CTRL+C to quit)\n"
          ],
          "name": "stderr"
        },
        {
          "output_type": "stream",
          "text": [
            " * Running on http://dfd3-35-245-135-197.ngrok.io\n",
            " * Traffic stats available on http://127.0.0.1:4040\n"
          ],
          "name": "stdout"
        },
        {
          "output_type": "stream",
          "text": [
            "127.0.0.1 - - [24/Aug/2021 11:03:08] \"\u001b[37mGET / HTTP/1.1\u001b[0m\" 200 -\n",
            "127.0.0.1 - - [24/Aug/2021 11:03:08] \"\u001b[37mGET /static/css/w3.css HTTP/1.1\u001b[0m\" 200 -\n",
            "127.0.0.1 - - [24/Aug/2021 11:03:08] \"\u001b[37mGET /static/images/img_band_la.jpg HTTP/1.1\u001b[0m\" 200 -\n",
            "127.0.0.1 - - [24/Aug/2021 11:03:08] \"\u001b[37mGET /static/images/img_band_ny.jpg HTTP/1.1\u001b[0m\" 200 -\n",
            "127.0.0.1 - - [24/Aug/2021 11:03:08] \"\u001b[37mGET /static/images/img_band_chicago.jpg HTTP/1.1\u001b[0m\" 200 -\n",
            "127.0.0.1 - - [24/Aug/2021 11:03:08] \"\u001b[33mGET /img_bandmember.jpg HTTP/1.1\u001b[0m\" 404 -\n",
            "127.0.0.1 - - [24/Aug/2021 11:03:09] \"\u001b[33mGET /favicon.ico HTTP/1.1\u001b[0m\" 404 -\n",
            "127.0.0.1 - - [24/Aug/2021 11:06:01] \"\u001b[32mPOST / HTTP/1.1\u001b[0m\" 302 -\n",
            "127.0.0.1 - - [24/Aug/2021 11:06:01] \"\u001b[37mGET / HTTP/1.1\u001b[0m\" 200 -\n",
            "127.0.0.1 - - [24/Aug/2021 11:06:01] \"\u001b[33mGET /img_bandmember.jpg HTTP/1.1\u001b[0m\" 404 -\n",
            "127.0.0.1 - - [24/Aug/2021 11:06:04] \"\u001b[37mGET /update/1 HTTP/1.1\u001b[0m\" 200 -\n",
            "127.0.0.1 - - [24/Aug/2021 11:06:05] \"\u001b[33mGET /update/img_bandmember.jpg HTTP/1.1\u001b[0m\" 404 -\n",
            "127.0.0.1 - - [24/Aug/2021 11:06:10] \"\u001b[32mPOST /update/1 HTTP/1.1\u001b[0m\" 302 -\n",
            "127.0.0.1 - - [24/Aug/2021 11:06:10] \"\u001b[37mGET / HTTP/1.1\u001b[0m\" 200 -\n",
            "127.0.0.1 - - [24/Aug/2021 11:06:10] \"\u001b[33mGET /img_bandmember.jpg HTTP/1.1\u001b[0m\" 404 -\n",
            "127.0.0.1 - - [24/Aug/2021 11:06:13] \"\u001b[32mGET /delete/1 HTTP/1.1\u001b[0m\" 302 -\n",
            "127.0.0.1 - - [24/Aug/2021 11:06:13] \"\u001b[37mGET / HTTP/1.1\u001b[0m\" 200 -\n",
            "127.0.0.1 - - [24/Aug/2021 11:06:13] \"\u001b[33mGET /img_bandmember.jpg HTTP/1.1\u001b[0m\" 404 -\n"
          ],
          "name": "stderr"
        }
      ]
    },
    {
      "cell_type": "code",
      "metadata": {
        "id": "dvAC0ZpzShh7"
      },
      "source": [
        "from app import db"
      ],
      "execution_count": 33,
      "outputs": []
    },
    {
      "cell_type": "code",
      "metadata": {
        "id": "UHnVWJ30pkkx"
      },
      "source": [
        "db.create_all()"
      ],
      "execution_count": 34,
      "outputs": []
    }
  ]
}
